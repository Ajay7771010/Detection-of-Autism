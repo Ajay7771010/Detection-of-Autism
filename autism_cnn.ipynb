{
 "cells": [
  {
   "cell_type": "code",
   "execution_count": 1,
   "id": "waiting-special",
   "metadata": {},
   "outputs": [],
   "source": [
    "import numpy as np\n",
    "import pandas as pd\n",
    "\n",
    "from keras.preprocessing.image import ImageDataGenerator\n",
    "from keras.models import Model,Sequential,load_model,Input\n",
    "\n",
    "from keras.applications import MobileNet,MobileNetV2,InceptionV3\n",
    "from keras.applications.mobilenet_v2 import preprocess_input\n",
    "from keras.layers import AveragePooling2D,Flatten,Dense,Dropout,MaxPooling2D\n",
    "from keras.optimizers import Adam\n",
    "\n",
    "from keras.preprocessing.image import img_to_array,load_img\n",
    "\n",
    "from sklearn.metrics import confusion_matrix,classification_report"
   ]
  },
  {
   "cell_type": "code",
   "execution_count": 2,
   "id": "extensive-translation",
   "metadata": {},
   "outputs": [
    {
     "name": "stdout",
     "output_type": "stream",
     "text": [
      "Found 2536 images belonging to 2 classes.\n",
      "Found 2536 images belonging to 2 classes.\n"
     ]
    }
   ],
   "source": [
    "datagen=ImageDataGenerator(rotation_range=20,zoom_range=0.15,width_shift_range=0.2,height_shift_range=0.2,shear_range=0.15,\n",
    "                             horizontal_flip=True,fill_mode=\"nearest\")\n",
    "\n",
    "train_data=datagen.flow_from_directory('archive/train/',target_size=(299,299),class_mode=\"categorical\",batch_size=64)\n",
    "\n",
    "\n",
    "test_data=datagen.flow_from_directory('archive/train/',target_size=(299,299),class_mode=\"categorical\",batch_size=64)"
   ]
  },
  {
   "cell_type": "code",
   "execution_count": 3,
   "id": "incident-sector",
   "metadata": {},
   "outputs": [
    {
     "data": {
      "text/plain": [
       "'C:\\\\Users\\\\HP\\\\Desktop\\\\main_project'"
      ]
     },
     "execution_count": 3,
     "metadata": {},
     "output_type": "execute_result"
    }
   ],
   "source": [
    "pwd\n"
   ]
  },
  {
   "cell_type": "code",
   "execution_count": 4,
   "id": "inclusive-solution",
   "metadata": {},
   "outputs": [
    {
     "data": {
      "text/plain": [
       "{'autistic': 0, 'non_autistic': 1}"
      ]
     },
     "execution_count": 4,
     "metadata": {},
     "output_type": "execute_result"
    }
   ],
   "source": [
    "train_data.class_indices"
   ]
  },
  {
   "cell_type": "code",
   "execution_count": 5,
   "id": "auburn-longitude",
   "metadata": {},
   "outputs": [],
   "source": [
    "bot_model=InceptionV3(weights='imagenet',include_top=False,input_tensor=Input(shape=(299,299,3)))\n",
    "\n",
    "top_model=bot_model.output\n",
    "top_model=MaxPooling2D(pool_size=(7,7))(top_model)\n",
    "top_model=Flatten()(top_model)\n",
    "top_model = Dense(128, activation=\"relu\")(top_model)\n",
    "top_model = Dropout(0.5)(top_model)\n",
    "top_model = Dense(128, activation=\"relu\")(top_model)\n",
    "top_model = Dropout(0.5)(top_model)\n",
    "top_model = Dense(128, activation=\"relu\")(top_model)\n",
    "top_model = Dropout(0.5)(top_model)\n",
    "top_model = Dense(2, activation=\"softmax\")(top_model)"
   ]
  },
  {
   "cell_type": "code",
   "execution_count": 6,
   "id": "transsexual-explanation",
   "metadata": {},
   "outputs": [],
   "source": [
    "fin_model = Model(inputs=bot_model.input, outputs=top_model)"
   ]
  },
  {
   "cell_type": "code",
   "execution_count": 7,
   "id": "toxic-jungle",
   "metadata": {},
   "outputs": [],
   "source": [
    "for layer in bot_model.layers:\n",
    "    layer.trainable = False"
   ]
  },
  {
   "cell_type": "code",
   "execution_count": 8,
   "id": "native-style",
   "metadata": {},
   "outputs": [],
   "source": [
    "opti = Adam(lr=0.0001, decay=0.0001 /20)\n",
    "fin_model.compile(loss=\"categorical_crossentropy\", optimizer=opti,metrics=[\"accuracy\"])"
   ]
  },
  {
   "cell_type": "code",
   "execution_count": 9,
   "id": "junior-palestinian",
   "metadata": {},
   "outputs": [
    {
     "name": "stderr",
     "output_type": "stream",
     "text": [
      "C:\\Users\\HP\\Anaconda3\\envs\\projectmain\\lib\\site-packages\\tensorflow\\python\\keras\\engine\\training.py:1844: UserWarning: `Model.fit_generator` is deprecated and will be removed in a future version. Please use `Model.fit`, which supports generators.\n",
      "  warnings.warn('`Model.fit_generator` is deprecated and '\n"
     ]
    },
    {
     "name": "stdout",
     "output_type": "stream",
     "text": [
      "Epoch 1/20\n",
      "10/10 [==============================] - 92s 9s/step - loss: 47.0277 - accuracy: 0.5181 - val_loss: 9.9045 - val_accuracy: 0.5437\n",
      "Epoch 2/20\n",
      "10/10 [==============================] - 85s 9s/step - loss: 37.0751 - accuracy: 0.4734 - val_loss: 8.6477 - val_accuracy: 0.5109\n",
      "Epoch 3/20\n",
      "10/10 [==============================] - 94s 10s/step - loss: 19.8782 - accuracy: 0.5436 - val_loss: 3.2770 - val_accuracy: 0.5531\n",
      "Epoch 4/20\n",
      "10/10 [==============================] - 86s 9s/step - loss: 14.4670 - accuracy: 0.5163 - val_loss: 1.9185 - val_accuracy: 0.5281\n",
      "Epoch 5/20\n",
      "10/10 [==============================] - 87s 9s/step - loss: 9.9794 - accuracy: 0.5346 - val_loss: 1.3420 - val_accuracy: 0.5719\n",
      "Epoch 6/20\n",
      "10/10 [==============================] - 130s 14s/step - loss: 5.9773 - accuracy: 0.5087 - val_loss: 1.0571 - val_accuracy: 0.5188\n",
      "Epoch 7/20\n",
      "10/10 [==============================] - 86s 9s/step - loss: 3.4301 - accuracy: 0.5325 - val_loss: 0.9735 - val_accuracy: 0.4828\n",
      "Epoch 8/20\n",
      "10/10 [==============================] - 88s 9s/step - loss: 2.3296 - accuracy: 0.4939 - val_loss: 0.7696 - val_accuracy: 0.5156\n",
      "Epoch 9/20\n",
      "10/10 [==============================] - 90s 9s/step - loss: 1.4171 - accuracy: 0.4978 - val_loss: 0.7493 - val_accuracy: 0.5125\n",
      "Epoch 10/20\n",
      "10/10 [==============================] - 142s 15s/step - loss: 0.9962 - accuracy: 0.5187 - val_loss: 0.7242 - val_accuracy: 0.5141\n",
      "Epoch 11/20\n",
      "10/10 [==============================] - 189s 20s/step - loss: 0.9771 - accuracy: 0.4670 - val_loss: 0.7052 - val_accuracy: 0.5531\n",
      "Epoch 12/20\n",
      "10/10 [==============================] - 177s 18s/step - loss: 0.8734 - accuracy: 0.5378 - val_loss: 0.7182 - val_accuracy: 0.5203\n",
      "Epoch 13/20\n",
      "10/10 [==============================] - 202s 21s/step - loss: 0.8206 - accuracy: 0.5261 - val_loss: 0.7089 - val_accuracy: 0.5281\n",
      "Epoch 14/20\n",
      "10/10 [==============================] - 182s 19s/step - loss: 0.7439 - accuracy: 0.5848 - val_loss: 0.7042 - val_accuracy: 0.5547\n",
      "Epoch 15/20\n",
      "10/10 [==============================] - 200s 21s/step - loss: 0.7498 - accuracy: 0.5270 - val_loss: 0.7012 - val_accuracy: 0.5219\n",
      "Epoch 16/20\n",
      "10/10 [==============================] - 178s 19s/step - loss: 0.7617 - accuracy: 0.5112 - val_loss: 0.7017 - val_accuracy: 0.5250\n",
      "Epoch 17/20\n",
      "10/10 [==============================] - 193s 18s/step - loss: 0.7831 - accuracy: 0.5072 - val_loss: 0.7121 - val_accuracy: 0.5063\n",
      "Epoch 18/20\n",
      "10/10 [==============================] - 191s 20s/step - loss: 0.7434 - accuracy: 0.5211 - val_loss: 0.6984 - val_accuracy: 0.5188\n",
      "Epoch 19/20\n",
      "10/10 [==============================] - 188s 19s/step - loss: 0.7732 - accuracy: 0.4913 - val_loss: 0.6923 - val_accuracy: 0.5328\n",
      "Epoch 20/20\n",
      "10/10 [==============================] - 202s 21s/step - loss: 0.6881 - accuracy: 0.5458 - val_loss: 0.6890 - val_accuracy: 0.5297\n"
     ]
    }
   ],
   "source": [
    "history = fin_model.fit_generator(train_data,steps_per_epoch=10,\n",
    "                    validation_data=test_data,validation_steps=10,\n",
    "                    epochs=20)\n"
   ]
  },
  {
   "cell_type": "code",
   "execution_count": null,
   "id": "decimal-porter",
   "metadata": {},
   "outputs": [],
   "source": [
    "names=np.array(['autistic','non_autistic'])\n",
    "image=load_img('archive/test/autistic/012.jpg',target_size=(299,299))\n",
    "img=img_to_array(image)\n",
    "ex_im=np.expand_dims(img,axis=0)\n",
    "class2=fin_model.predict(ex_im)\n",
    "names[np.argmax(class2)]"
   ]
  },
  {
   "cell_type": "code",
   "execution_count": null,
   "id": "third-driving",
   "metadata": {},
   "outputs": [],
   "source": [
    "top_model.save('autisim.h5')"
   ]
  },
  {
   "cell_type": "code",
   "execution_count": null,
   "id": "aggressive-commerce",
   "metadata": {},
   "outputs": [],
   "source": []
  },
  {
   "cell_type": "code",
   "execution_count": null,
   "id": "processed-germany",
   "metadata": {},
   "outputs": [],
   "source": []
  },
  {
   "cell_type": "code",
   "execution_count": null,
   "id": "diverse-private",
   "metadata": {},
   "outputs": [],
   "source": []
  }
 ],
 "metadata": {
  "kernelspec": {
   "display_name": "Python 3",
   "language": "python",
   "name": "python3"
  },
  "language_info": {
   "codemirror_mode": {
    "name": "ipython",
    "version": 3
   },
   "file_extension": ".py",
   "mimetype": "text/x-python",
   "name": "python",
   "nbconvert_exporter": "python",
   "pygments_lexer": "ipython3",
   "version": "3.8.5"
  }
 },
 "nbformat": 4,
 "nbformat_minor": 5
}
